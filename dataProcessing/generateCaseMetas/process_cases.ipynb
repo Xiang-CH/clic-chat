{
 "cells": [
  {
   "cell_type": "code",
   "execution_count": 1,
   "metadata": {},
   "outputs": [
    {
     "name": "stderr",
     "output_type": "stream",
     "text": [
      "/home/cxiang/miniconda3/envs/llm/lib/python3.10/site-packages/tqdm/auto.py:21: TqdmWarning: IProgress not found. Please update jupyter and ipywidgets. See https://ipywidgets.readthedocs.io/en/stable/user_install.html\n",
      "  from .autonotebook import tqdm as notebook_tqdm\n"
     ]
    },
    {
     "name": "stdout",
     "output_type": "stream",
     "text": [
      "INFO 03-26 20:16:24 [__init__.py:256] Automatically detected platform cuda.\n"
     ]
    },
    {
     "name": "stderr",
     "output_type": "stream",
     "text": [
      "2025-03-26 20:16:24,891\tINFO util.py:154 -- Missing packages: ['ipywidgets']. Run `pip install -U ipywidgets`, then restart the notebook server for rich notebook output.\n"
     ]
    },
    {
     "name": "stdout",
     "output_type": "stream",
     "text": [
      "INFO 03-26 20:16:33 [config.py:583] This model supports multiple tasks: {'classify', 'score', 'embed', 'reward', 'generate'}. Defaulting to 'generate'.\n",
      "INFO 03-26 20:16:33 [config.py:1693] Chunked prefill is enabled with max_num_batched_tokens=8192.\n",
      "INFO 03-26 20:16:35 [core.py:53] Initializing a V1 LLM engine (v0.8.1) with config: model='qwen/Qwen2.5-7B-Instruct', speculative_config=None, tokenizer='qwen/Qwen2.5-7B-Instruct', skip_tokenizer_init=False, tokenizer_mode=auto, revision=None, override_neuron_config=None, tokenizer_revision=None, trust_remote_code=False, dtype=torch.bfloat16, max_seq_len=32768, download_dir=None, load_format=auto, tensor_parallel_size=1, pipeline_parallel_size=1, disable_custom_all_reduce=False, quantization=None, enforce_eager=False, kv_cache_dtype=auto,  device_config=cuda, decoding_config=DecodingConfig(guided_decoding_backend='xgrammar', reasoning_backend=None), observability_config=ObservabilityConfig(show_hidden_metrics=False, otlp_traces_endpoint=None, collect_model_forward_time=False, collect_model_execute_time=False), seed=None, served_model_name=qwen/Qwen2.5-7B-Instruct, num_scheduler_steps=1, multi_step_stream_outputs=True, enable_prefix_caching=True, chunked_prefill_enabled=True, use_async_output_proc=True, disable_mm_preprocessor_cache=False, mm_processor_kwargs=None, pooler_config=None, compilation_config={\"level\":3,\"custom_ops\":[\"none\"],\"splitting_ops\":[\"vllm.unified_attention\",\"vllm.unified_attention_with_output\"],\"use_inductor\":true,\"compile_sizes\":[],\"use_cudagraph\":true,\"cudagraph_num_of_warmups\":1,\"cudagraph_capture_sizes\":[512,504,496,488,480,472,464,456,448,440,432,424,416,408,400,392,384,376,368,360,352,344,336,328,320,312,304,296,288,280,272,264,256,248,240,232,224,216,208,200,192,184,176,168,160,152,144,136,128,120,112,104,96,88,80,72,64,56,48,40,32,24,16,8,4,2,1],\"max_capture_size\":512}\n",
      "WARNING 03-26 20:16:35 [utils.py:2282] Methods determine_num_available_blocks,device_config,get_cache_block_size_bytes,initialize_cache not implemented in <vllm.v1.worker.gpu_worker.Worker object at 0x7b60ba5ec940>\n",
      "INFO 03-26 20:16:36 [parallel_state.py:967] rank 0 in world size 1 is assigned as DP rank 0, PP rank 0, TP rank 0\n",
      "INFO 03-26 20:16:36 [cuda.py:215] Using Flash Attention backend on V1 engine.\n",
      "INFO 03-26 20:16:36 [gpu_model_runner.py:1164] Starting to load model qwen/Qwen2.5-7B-Instruct...\n",
      "WARNING 03-26 20:16:36 [topk_topp_sampler.py:63] FlashInfer is not available. Falling back to the PyTorch-native implementation of top-p & top-k sampling. For the best performance, please install FlashInfer.\n",
      "INFO 03-26 20:16:37 [weight_utils.py:257] Using model weights format ['*.safetensors']\n"
     ]
    },
    {
     "name": "stderr",
     "output_type": "stream",
     "text": [
      "Loading safetensors checkpoint shards:   0% Completed | 0/4 [00:00<?, ?it/s]\n",
      "Loading safetensors checkpoint shards:  25% Completed | 1/4 [00:00<00:01,  1.64it/s]\n",
      "Loading safetensors checkpoint shards:  50% Completed | 2/4 [00:01<00:01,  1.65it/s]\n",
      "Loading safetensors checkpoint shards:  75% Completed | 3/4 [00:01<00:00,  1.63it/s]\n",
      "Loading safetensors checkpoint shards: 100% Completed | 4/4 [00:02<00:00,  1.67it/s]\n",
      "Loading safetensors checkpoint shards: 100% Completed | 4/4 [00:02<00:00,  1.66it/s]\n",
      "\n"
     ]
    },
    {
     "name": "stdout",
     "output_type": "stream",
     "text": [
      "INFO 03-26 20:16:40 [loader.py:429] Loading weights took 2.48 seconds\n",
      "INFO 03-26 20:16:41 [gpu_model_runner.py:1176] Model loading took 14.2487 GB and 4.494886 seconds\n",
      "INFO 03-26 20:16:46 [backends.py:409] Using cache directory: /home/cxiang/.cache/vllm/torch_compile_cache/cb05eb8a21/rank_0_0 for vLLM's torch.compile\n",
      "INFO 03-26 20:16:46 [backends.py:419] Dynamo bytecode transform time: 5.01 s\n",
      "INFO 03-26 20:16:46 [backends.py:115] Directly load the compiled graph for shape None from the cache\n",
      "INFO 03-26 20:16:50 [monitor.py:33] torch.compile takes 5.01 s in total\n",
      "INFO 03-26 20:16:51 [kv_cache_utils.py:537] GPU KV cache size: 369,264 tokens\n",
      "INFO 03-26 20:16:51 [kv_cache_utils.py:540] Maximum concurrency for 32,768 tokens per request: 11.27x\n",
      "INFO 03-26 20:17:12 [gpu_model_runner.py:1499] Graph capturing finished in 20 secs, took 0.48 GiB\n",
      "INFO 03-26 20:17:12 [core.py:138] init engine (profile, create kv cache, warmup model) took 31.04 seconds\n"
     ]
    },
    {
     "name": "stderr",
     "output_type": "stream",
     "text": [
      "Exception in thread Thread-7 (process_input_socket):\n",
      "Traceback (most recent call last):\n",
      "  File \"/home/cxiang/miniconda3/envs/llm/lib/python3.10/threading.py\", line 1016, in _bootstrap_inner\n",
      "    self.run()\n",
      "  File \"/home/cxiang/miniconda3/envs/llm/lib/python3.10/site-packages/ipykernel/ipkernel.py\", line 766, in run_closure\n",
      "    _threading_Thread_run(self)\n",
      "  File \"/home/cxiang/miniconda3/envs/llm/lib/python3.10/threading.py\", line 953, in run\n",
      "    self._target(*self._args, **self._kwargs)\n",
      "  File \"/home/cxiang/miniconda3/envs/llm/lib/python3.10/site-packages/vllm/v1/engine/core.py\", line 419, in process_input_socket\n",
      "    type_frame, data_frame = socket.recv_multipart(copy=False)\n",
      "ValueError: too many values to unpack (expected 2)\n"
     ]
    }
   ],
   "source": [
    "import pandas as pd\n",
    "import random\n",
    "import json\n",
    "from concurrent.futures import ThreadPoolExecutor, as_completed\n",
    "from tqdm import tqdm\n",
    "from llm_client_2 import generate_extra_meta\n"
   ]
  },
  {
   "cell_type": "code",
   "execution_count": 5,
   "metadata": {},
   "outputs": [
    {
     "name": "stdout",
     "output_type": "stream",
     "text": [
      "<class 'pandas.core.frame.DataFrame'>\n",
      "RangeIndex: 100753 entries, 0 to 100752\n",
      "Data columns (total 9 columns):\n",
      " #   Column                Non-Null Count   Dtype         \n",
      "---  ------                --------------   -----         \n",
      " 0   court                 100753 non-null  object        \n",
      " 1   registry              100753 non-null  object        \n",
      " 2   date                  100753 non-null  datetime64[ns]\n",
      " 3   case_name             100753 non-null  object        \n",
      " 4   citation              100753 non-null  object        \n",
      " 5   url                   100753 non-null  object        \n",
      " 6   case_number           100753 non-null  object        \n",
      " 7   law_report_citations  100753 non-null  object        \n",
      " 8   content               100753 non-null  object        \n",
      "dtypes: datetime64[ns](1), object(8)\n",
      "memory usage: 6.9+ MB\n"
     ]
    }
   ],
   "source": [
    "df = pd.read_json(\"../../judgements/eng_cases.json\")\n",
    "df.info()"
   ]
  },
  {
   "cell_type": "code",
   "execution_count": null,
   "metadata": {},
   "outputs": [],
   "source": [
    "# Count entries for each court\n",
    "court_counts = df['court'].value_counts()\n",
    "\n",
    "# Display the counts\n",
    "print(\"Number of cases by court:\")\n",
    "print(court_counts)"
   ]
  },
  {
   "cell_type": "code",
   "execution_count": null,
   "metadata": {},
   "outputs": [],
   "source": [
    "# Count tokens in all content using a simple tokenization approach\n",
    "total_tokens = 0\n",
    "\n",
    "# Using a simple approach: space-based tokenization for a rough estimate\n",
    "for content in df['content']:\n",
    "    # Split by whitespace to get approximate token count\n",
    "    tokens = content.split()\n",
    "    total_tokens += len(tokens)\n",
    "\n",
    "print(f\"Total tokens (approximate): {total_tokens:,}\")\n",
    "\n",
    "# Optional: Display average tokens per document\n",
    "avg_tokens = total_tokens / len(df)\n",
    "print(f\"Average tokens per document: {avg_tokens:.2f}\")"
   ]
  },
  {
   "cell_type": "code",
   "execution_count": null,
   "metadata": {},
   "outputs": [],
   "source": [
    "# Calculate token count for each document\n",
    "df['token_count'] = df['content'].apply(lambda x: len(x.split()))\n",
    "\n",
    "# Count entries with token length > 6000\n",
    "long_docs_count = (df['token_count'] > 36000).sum()\n",
    "\n",
    "# Get percentage of long documents\n",
    "percentage_long = (long_docs_count / len(df)) * 100\n",
    "\n",
    "# Show results\n",
    "print(f\"Number of documents with > 16000 tokens: {long_docs_count:,} ({percentage_long:.2f}%)\")"
   ]
  },
  {
   "cell_type": "code",
   "execution_count": 6,
   "metadata": {},
   "outputs": [],
   "source": [
    "cases = df[df['court'] == 'hkoat']"
   ]
  },
  {
   "cell_type": "code",
   "execution_count": 7,
   "metadata": {},
   "outputs": [],
   "source": [
    "def process_cases(df, output_file=\"result\"):\n",
    "    cases = df.to_dict(orient='records')\n",
    "\n",
    "    results = []\n",
    "\n",
    "     # Process cases in parallel using ThreadPoolExecutor instead of ProcessPoolExecutor\n",
    "    with ThreadPoolExecutor(max_workers=2) as executor:\n",
    "        futures = [executor.submit(generate_extra_meta, case[\"content\"]) for case in cases]\n",
    "        \n",
    "        for future, text in tqdm(zip(as_completed(futures), cases), total=len(cases), desc=\"Processing cases\"):\n",
    "            try:\n",
    "                data = future.result()\n",
    "                results.append({\n",
    "                    **data.model_dump(),\n",
    "                    \"case_name\": text[\"case_name\"],\n",
    "                    \"court\": text[\"court\"],\n",
    "                    \"date\": text[\"date\"].strftime(\"%Y-%m-%d\"),\n",
    "                    \"citation\": text[\"citation\"],\n",
    "                    \"case_number\": text[\"case_number\"],\n",
    "                    \"law_report_citations\": text[\"law_report_citations\"],\n",
    "                    \"url\": text[\"url\"]\n",
    "                })\n",
    "                \n",
    "                # Save intermediate results after each successful completion\n",
    "                with open(f\"{output_file}_partial.json\", \"w\") as f:\n",
    "                    f.write(json.dumps(results, indent=2))\n",
    "            except Exception as e:\n",
    "                print(f\"Error processing case: {str(e)}\")\n",
    "\n",
    "\n",
    "    with open(f\"{output_file}.json\", \"w\") as f:\n",
    "        f.write(json.dumps(results, indent=2))"
   ]
  },
  {
   "cell_type": "code",
   "execution_count": null,
   "metadata": {},
   "outputs": [
    {
     "name": "stdout",
     "output_type": "stream",
     "text": [
      "INFO 03-26 20:21:53 [chat_utils.py:346] Detected the chat template content format to be 'string'. You can set `--chat-template-content-format` to override this.\n",
      "INFO 03-26 20:21:53 [chat_utils.py:346] Detected the chat template content format to be 'string'. You can set `--chat-template-content-format` to override this.\n"
     ]
    },
    {
     "name": "stderr",
     "output_type": "stream",
     "text": [
      "Processing cases:   0%|          | 0/2 [00:00<?, ?it/s]\n",
      "\u001b[A"
     ]
    },
    {
     "name": "stderr",
     "output_type": "stream",
     "text": [
      "Processing cases:   0%|          | 0/2 [03:38<?, ?it/s]\n"
     ]
    }
   ],
   "source": [
    "process_cases(cases)"
   ]
  }
 ],
 "metadata": {
  "kernelspec": {
   "display_name": "llm",
   "language": "python",
   "name": "python3"
  },
  "language_info": {
   "codemirror_mode": {
    "name": "ipython",
    "version": 3
   },
   "file_extension": ".py",
   "mimetype": "text/x-python",
   "name": "python",
   "nbconvert_exporter": "python",
   "pygments_lexer": "ipython3",
   "version": "3.10.14"
  }
 },
 "nbformat": 4,
 "nbformat_minor": 2
}
