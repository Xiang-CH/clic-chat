{
 "cells": [
  {
   "cell_type": "code",
   "execution_count": 1,
   "id": "395942c4",
   "metadata": {},
   "outputs": [],
   "source": [
    "import pandas as pd"
   ]
  },
  {
   "cell_type": "code",
   "execution_count": 2,
   "id": "12e06f75",
   "metadata": {},
   "outputs": [
    {
     "name": "stdout",
     "output_type": "stream",
     "text": [
      "30474\n",
      "<class 'pandas.core.frame.DataFrame'>\n",
      "RangeIndex: 30474 entries, 0 to 30473\n",
      "Data columns (total 12 columns):\n",
      " #   Column               Non-Null Count  Dtype \n",
      "---  ------               --------------  ----- \n",
      " 0   Question             30474 non-null  object\n",
      " 1   Simplified_Chinese   30474 non-null  object\n",
      " 2   Traditional_Chinese  30474 non-null  object\n",
      " 3   URL                  30474 non-null  object\n",
      " 4   page                 30474 non-null  int64 \n",
      " 5   index                30474 non-null  int64 \n",
      " 6   Topic                30474 non-null  object\n",
      " 7   Identifier           30474 non-null  object\n",
      " 8   Method               30474 non-null  object\n",
      " 9   Answered in text?    30474 non-null  object\n",
      " 10  Interesting Q        30474 non-null  object\n",
      " 11  File                 30474 non-null  object\n",
      "dtypes: int64(2), object(10)\n",
      "memory usage: 2.8+ MB\n"
     ]
    },
    {
     "data": {
      "text/html": [
       "<div>\n",
       "<style scoped>\n",
       "    .dataframe tbody tr th:only-of-type {\n",
       "        vertical-align: middle;\n",
       "    }\n",
       "\n",
       "    .dataframe tbody tr th {\n",
       "        vertical-align: top;\n",
       "    }\n",
       "\n",
       "    .dataframe thead th {\n",
       "        text-align: right;\n",
       "    }\n",
       "</style>\n",
       "<table border=\"1\" class=\"dataframe\">\n",
       "  <thead>\n",
       "    <tr style=\"text-align: right;\">\n",
       "      <th></th>\n",
       "      <th>Question</th>\n",
       "      <th>Simplified_Chinese</th>\n",
       "      <th>Traditional_Chinese</th>\n",
       "      <th>URL</th>\n",
       "      <th>page</th>\n",
       "      <th>index</th>\n",
       "      <th>Topic</th>\n",
       "      <th>Identifier</th>\n",
       "      <th>Method</th>\n",
       "      <th>Answered in text?</th>\n",
       "      <th>Interesting Q</th>\n",
       "      <th>File</th>\n",
       "    </tr>\n",
       "  </thead>\n",
       "  <tbody>\n",
       "    <tr>\n",
       "      <th>0</th>\n",
       "      <td>Which ordinance prescribes the scheme for comp...</td>\n",
       "      <td>哪个法令规定了强制机动车辆保险的方案？</td>\n",
       "      <td>哪個法令規定了強制機動車輛保險的方案？</td>\n",
       "      <td>https://clic.org.hk/en/topics/insurance/common...</td>\n",
       "      <td>746</td>\n",
       "      <td>281</td>\n",
       "      <td>insurance</td>\n",
       "      <td>746-S300Q1</td>\n",
       "      <td>Human</td>\n",
       "      <td>[746-S300-P1]</td>\n",
       "      <td>No</td>\n",
       "      <td>CLIC_data_batch_5_total/7. Chan Chun Wing Marc...</td>\n",
       "    </tr>\n",
       "    <tr>\n",
       "      <th>1</th>\n",
       "      <td>What does Section 4(1) of the Motor Vehicles I...</td>\n",
       "      <td>《机动车辆保险（第三者责任）条例》第4(1)条规定了什么内容？</td>\n",
       "      <td>《機動車輛保險（第三者責任）條例》第4(1)條規定了什麼內容？</td>\n",
       "      <td>https://clic.org.hk/en/topics/insurance/common...</td>\n",
       "      <td>746</td>\n",
       "      <td>282</td>\n",
       "      <td>insurance</td>\n",
       "      <td>746-S300Q2</td>\n",
       "      <td>Human</td>\n",
       "      <td>[746-S300-P1]</td>\n",
       "      <td>No</td>\n",
       "      <td>CLIC_data_batch_5_total/7. Chan Chun Wing Marc...</td>\n",
       "    </tr>\n",
       "  </tbody>\n",
       "</table>\n",
       "</div>"
      ],
      "text/plain": [
       "                                            Question  \\\n",
       "0  Which ordinance prescribes the scheme for comp...   \n",
       "1  What does Section 4(1) of the Motor Vehicles I...   \n",
       "\n",
       "                Simplified_Chinese              Traditional_Chinese  \\\n",
       "0              哪个法令规定了强制机动车辆保险的方案？              哪個法令規定了強制機動車輛保險的方案？   \n",
       "1  《机动车辆保险（第三者责任）条例》第4(1)条规定了什么内容？  《機動車輛保險（第三者責任）條例》第4(1)條規定了什麼內容？   \n",
       "\n",
       "                                                 URL  page  index      Topic  \\\n",
       "0  https://clic.org.hk/en/topics/insurance/common...   746    281  insurance   \n",
       "1  https://clic.org.hk/en/topics/insurance/common...   746    282  insurance   \n",
       "\n",
       "   Identifier Method Answered in text? Interesting Q  \\\n",
       "0  746-S300Q1  Human     [746-S300-P1]            No   \n",
       "1  746-S300Q2  Human     [746-S300-P1]            No   \n",
       "\n",
       "                                                File  \n",
       "0  CLIC_data_batch_5_total/7. Chan Chun Wing Marc...  \n",
       "1  CLIC_data_batch_5_total/7. Chan Chun Wing Marc...  "
      ]
     },
     "execution_count": 2,
     "metadata": {},
     "output_type": "execute_result"
    }
   ],
   "source": [
    "questions = pd.read_json(\"../lqb/high_quality_questions.json\")\n",
    "print(len(questions))\n",
    "\n",
    "# Convert 'Answered in text?' column from string representation to actual list\n",
    "questions[\"Answered in text?\"] = questions[\"Answered in text?\"].apply(lambda x: eval(x) if isinstance(x, str) and x.startswith('[') and x.endswith(']') else ([x] if isinstance(x, str) else x))\n",
    "\n",
    "questions.info()\n",
    "questions.head(2)"
   ]
  },
  {
   "cell_type": "code",
   "execution_count": 3,
   "id": "3d8ea4c6",
   "metadata": {},
   "outputs": [
    {
     "data": {
      "text/html": [
       "<div>\n",
       "<style scoped>\n",
       "    .dataframe tbody tr th:only-of-type {\n",
       "        vertical-align: middle;\n",
       "    }\n",
       "\n",
       "    .dataframe tbody tr th {\n",
       "        vertical-align: top;\n",
       "    }\n",
       "\n",
       "    .dataframe thead th {\n",
       "        text-align: right;\n",
       "    }\n",
       "</style>\n",
       "<table border=\"1\" class=\"dataframe\">\n",
       "  <thead>\n",
       "    <tr style=\"text-align: right;\">\n",
       "      <th></th>\n",
       "      <th>ChunkIdentifier</th>\n",
       "      <th>Answer</th>\n",
       "    </tr>\n",
       "  </thead>\n",
       "  <tbody>\n",
       "    <tr>\n",
       "      <th>0</th>\n",
       "      <td>874-S000</td>\n",
       "      <td>I heard about someone who claimed that they we...</td>\n",
       "    </tr>\n",
       "    <tr>\n",
       "      <th>1</th>\n",
       "      <td>874-S100-P1</td>\n",
       "      <td>The Land Registry provides a “Land Search” ser...</td>\n",
       "    </tr>\n",
       "  </tbody>\n",
       "</table>\n",
       "</div>"
      ],
      "text/plain": [
       "  ChunkIdentifier                                             Answer\n",
       "0        874-S000  I heard about someone who claimed that they we...\n",
       "1     874-S100-P1  The Land Registry provides a “Land Search” ser..."
      ]
     },
     "execution_count": 3,
     "metadata": {},
     "output_type": "execute_result"
    }
   ],
   "source": [
    "answer_mapping = pd.read_json(\"../lqb/scope_to_text.json\", orient=\"index\")\n",
    "answer_mapping = answer_mapping.reset_index()\n",
    "answer_mapping.columns = [\"ChunkIdentifier\", \"Answer\"]\n",
    "answer_mapping.head(2)"
   ]
  },
  {
   "cell_type": "code",
   "execution_count": 4,
   "id": "d7a400b3",
   "metadata": {},
   "outputs": [
    {
     "data": {
      "text/html": [
       "<div>\n",
       "<style scoped>\n",
       "    .dataframe tbody tr th:only-of-type {\n",
       "        vertical-align: middle;\n",
       "    }\n",
       "\n",
       "    .dataframe tbody tr th {\n",
       "        vertical-align: top;\n",
       "    }\n",
       "\n",
       "    .dataframe thead th {\n",
       "        text-align: right;\n",
       "    }\n",
       "</style>\n",
       "<table border=\"1\" class=\"dataframe\">\n",
       "  <thead>\n",
       "    <tr style=\"text-align: right;\">\n",
       "      <th></th>\n",
       "      <th>Question</th>\n",
       "      <th>Simplified_Chinese</th>\n",
       "      <th>Traditional_Chinese</th>\n",
       "      <th>URL</th>\n",
       "      <th>page</th>\n",
       "      <th>index</th>\n",
       "      <th>Topic</th>\n",
       "      <th>Identifier</th>\n",
       "      <th>Method</th>\n",
       "      <th>Answered in text?</th>\n",
       "      <th>Interesting Q</th>\n",
       "      <th>File</th>\n",
       "      <th>Answer</th>\n",
       "    </tr>\n",
       "  </thead>\n",
       "  <tbody>\n",
       "    <tr>\n",
       "      <th>0</th>\n",
       "      <td>Which ordinance prescribes the scheme for comp...</td>\n",
       "      <td>哪个法令规定了强制机动车辆保险的方案？</td>\n",
       "      <td>哪個法令規定了強制機動車輛保險的方案？</td>\n",
       "      <td>https://clic.org.hk/en/topics/insurance/common...</td>\n",
       "      <td>746</td>\n",
       "      <td>281</td>\n",
       "      <td>insurance</td>\n",
       "      <td>746-S300Q1</td>\n",
       "      <td>Human</td>\n",
       "      <td>[746-S300-P1]</td>\n",
       "      <td>No</td>\n",
       "      <td>CLIC_data_batch_5_total/7. Chan Chun Wing Marc...</td>\n",
       "      <td>C. Compulsory Motor Insurance. 1. Motor Vehicl...</td>\n",
       "    </tr>\n",
       "    <tr>\n",
       "      <th>1</th>\n",
       "      <td>What does Section 4(1) of the Motor Vehicles I...</td>\n",
       "      <td>《机动车辆保险（第三者责任）条例》第4(1)条规定了什么内容？</td>\n",
       "      <td>《機動車輛保險（第三者責任）條例》第4(1)條規定了什麼內容？</td>\n",
       "      <td>https://clic.org.hk/en/topics/insurance/common...</td>\n",
       "      <td>746</td>\n",
       "      <td>282</td>\n",
       "      <td>insurance</td>\n",
       "      <td>746-S300Q2</td>\n",
       "      <td>Human</td>\n",
       "      <td>[746-S300-P1]</td>\n",
       "      <td>No</td>\n",
       "      <td>CLIC_data_batch_5_total/7. Chan Chun Wing Marc...</td>\n",
       "      <td>C. Compulsory Motor Insurance. 1. Motor Vehicl...</td>\n",
       "    </tr>\n",
       "  </tbody>\n",
       "</table>\n",
       "</div>"
      ],
      "text/plain": [
       "                                            Question  \\\n",
       "0  Which ordinance prescribes the scheme for comp...   \n",
       "1  What does Section 4(1) of the Motor Vehicles I...   \n",
       "\n",
       "                Simplified_Chinese              Traditional_Chinese  \\\n",
       "0              哪个法令规定了强制机动车辆保险的方案？              哪個法令規定了強制機動車輛保險的方案？   \n",
       "1  《机动车辆保险（第三者责任）条例》第4(1)条规定了什么内容？  《機動車輛保險（第三者責任）條例》第4(1)條規定了什麼內容？   \n",
       "\n",
       "                                                 URL  page  index      Topic  \\\n",
       "0  https://clic.org.hk/en/topics/insurance/common...   746    281  insurance   \n",
       "1  https://clic.org.hk/en/topics/insurance/common...   746    282  insurance   \n",
       "\n",
       "   Identifier Method Answered in text? Interesting Q  \\\n",
       "0  746-S300Q1  Human     [746-S300-P1]            No   \n",
       "1  746-S300Q2  Human     [746-S300-P1]            No   \n",
       "\n",
       "                                                File  \\\n",
       "0  CLIC_data_batch_5_total/7. Chan Chun Wing Marc...   \n",
       "1  CLIC_data_batch_5_total/7. Chan Chun Wing Marc...   \n",
       "\n",
       "                                              Answer  \n",
       "0  C. Compulsory Motor Insurance. 1. Motor Vehicl...  \n",
       "1  C. Compulsory Motor Insurance. 1. Motor Vehicl...  "
      ]
     },
     "execution_count": 4,
     "metadata": {},
     "output_type": "execute_result"
    }
   ],
   "source": [
    "def get_answers(chunk_identifiers):\n",
    "    matching_answers = []\n",
    "    for chunk_id in chunk_identifiers:\n",
    "        matches = answer_mapping[answer_mapping[\"ChunkIdentifier\"] == chunk_id]\n",
    "        if not matches.empty:\n",
    "            matching_answers.append(matches[\"Answer\"].values[0])\n",
    "    return \"\\n\\n\".join(matching_answers)\n",
    "\n",
    "questions[\"Answer\"] = questions[\"Answered in text?\"].apply(get_answers)\n",
    "\n",
    "questions.head(2)"
   ]
  },
  {
   "cell_type": "code",
   "execution_count": 5,
   "id": "533e8683",
   "metadata": {},
   "outputs": [
    {
     "data": {
      "text/html": [
       "<div>\n",
       "<style scoped>\n",
       "    .dataframe tbody tr th:only-of-type {\n",
       "        vertical-align: middle;\n",
       "    }\n",
       "\n",
       "    .dataframe tbody tr th {\n",
       "        vertical-align: top;\n",
       "    }\n",
       "\n",
       "    .dataframe thead th {\n",
       "        text-align: right;\n",
       "    }\n",
       "</style>\n",
       "<table border=\"1\" class=\"dataframe\">\n",
       "  <thead>\n",
       "    <tr style=\"text-align: right;\">\n",
       "      <th></th>\n",
       "      <th>Question</th>\n",
       "      <th>Answer</th>\n",
       "      <th>URL</th>\n",
       "    </tr>\n",
       "  </thead>\n",
       "  <tbody>\n",
       "    <tr>\n",
       "      <th>0</th>\n",
       "      <td>Which ordinance prescribes the scheme for comp...</td>\n",
       "      <td>C. Compulsory Motor Insurance. 1. Motor Vehicl...</td>\n",
       "      <td>https://clic.org.hk/en/topics/insurance/common...</td>\n",
       "    </tr>\n",
       "    <tr>\n",
       "      <th>1</th>\n",
       "      <td>What does Section 4(1) of the Motor Vehicles I...</td>\n",
       "      <td>C. Compulsory Motor Insurance. 1. Motor Vehicl...</td>\n",
       "      <td>https://clic.org.hk/en/topics/insurance/common...</td>\n",
       "    </tr>\n",
       "  </tbody>\n",
       "</table>\n",
       "</div>"
      ],
      "text/plain": [
       "                                            Question  \\\n",
       "0  Which ordinance prescribes the scheme for comp...   \n",
       "1  What does Section 4(1) of the Motor Vehicles I...   \n",
       "\n",
       "                                              Answer  \\\n",
       "0  C. Compulsory Motor Insurance. 1. Motor Vehicl...   \n",
       "1  C. Compulsory Motor Insurance. 1. Motor Vehicl...   \n",
       "\n",
       "                                                 URL  \n",
       "0  https://clic.org.hk/en/topics/insurance/common...  \n",
       "1  https://clic.org.hk/en/topics/insurance/common...  "
      ]
     },
     "execution_count": 5,
     "metadata": {},
     "output_type": "execute_result"
    }
   ],
   "source": [
    "df = questions[[\"Question\", \"Answer\", \"URL\"]]\n",
    "df.head(2)"
   ]
  },
  {
   "cell_type": "code",
   "execution_count": 9,
   "id": "93e182ac",
   "metadata": {},
   "outputs": [
    {
     "name": "stdout",
     "output_type": "stream",
     "text": [
      "2919\n"
     ]
    }
   ],
   "source": [
    "df_caps = df[df[\"Answer\"].str.contains(\"Cap.\") & \n",
    "    ~df[\"Question\"].str.contains(\"ordinance|regulation|Ordinance|Regulation\", case=False)]\n",
    "print(len(df_caps))\n",
    "df_caps.head(2)\n",
    "df_caps_sample = df_caps.sample(n=100, random_state=42)\n",
    "df_json = df_caps_sample.to_json(orient=\"records\", indent=2).replace('\\\\/', '/')\n",
    "with open(\"../lqb/cap_qa_pairs.json\", \"w\") as f:\n",
    "    f.write(df_json)"
   ]
  },
  {
   "cell_type": "code",
   "execution_count": 11,
   "id": "8a15ad94",
   "metadata": {},
   "outputs": [],
   "source": [
    "# Create batch API request to extract ordinance references\n",
    "batch_requests = []\n",
    "for _, row in df_caps_sample.iterrows():\n",
    "    batch_requests.append({\n",
    "        \"custom_id\": \"task-\" + str(row.name),\n",
    "        \"method\": \"POST\",\n",
    "        \"url\": \"/v4/chat/completions\",\n",
    "        \"body\": {\n",
    "            \"model\": \"glm-4-plus\",  # Or your preferred model\n",
    "            \"messages\": [\n",
    "                {\"role\": \"system\", \"content\": \"Extract all ordinance and regulation references from the text. Return a JSON array with objects containing 'cap_no' and 'section_no' for each reference. Example: [{\\\"cap_no\\\": \\\"155\\\", \\\"section_no\\\": \\\"12\\\"}, {\\\"cap_no\\\": \\\"32A\\\", \\\"section_no\\\": \\\"5\\\"}]\"},\n",
    "                {\"role\": \"user\", \"content\": row[\"Answer\"]}\n",
    "            ],\n",
    "            \"response_format\": {\"type\": \"json_object\"},\n",
    "            \"temperature\": 0.1,\n",
    "        }\n",
    "    })\n",
    "\n",
    "# Write batch requests to JSONL file\n",
    "import json\n",
    "with open(\"../lqb/ordinance_extraction_batch.jsonl\", \"w\") as f:\n",
    "    for req in batch_requests:\n",
    "        f.write(json.dumps(req) + \"\\n\")\n",
    "\n",
    "\n"
   ]
  },
  {
   "cell_type": "code",
   "execution_count": null,
   "id": "403d218e",
   "metadata": {},
   "outputs": [
    {
     "name": "stdout",
     "output_type": "stream",
     "text": [
      "\n",
      "Sample with extracted ordinances:\n",
      "                                                Question  \\\n",
      "26648  How does the Hospital Authority differentiate ...   \n",
      "27009  If I leave no will, how will my assets be dist...   \n",
      "24513  How is the maximum amount of remission calcula...   \n",
      "\n",
      "                                              ordinances  \n",
      "26648  [{'cap_no': '177', 'section_no': 'Registration...  \n",
      "27009  [{'cap_no': '73', 'section_no': '4(3)'}, {'cap...  \n",
      "24513  [{'cap_no': '234A', 'section_no': '69(2)'}, {'...  \n"
     ]
    }
   ],
   "source": [
    "ordinance_results = {}\n",
    "with open(\"../lqb/ordinance_batch_output.jsonl\", \"r\") as f:\n",
    "    for line in f:\n",
    "        data = json.loads(line)\n",
    "        custom_id = data[\"custom_id\"]\n",
    "        task_id = custom_id.split(\"-\")[1]  # Extract the task ID number\n",
    "        \n",
    "        try:\n",
    "            content = data[\"response\"][\"body\"][\"choices\"][0][\"message\"][\"content\"]\n",
    "            # Parse the JSON string in the content\n",
    "            ordinance_results[task_id] = json.loads(content)\n",
    "        except (KeyError, json.JSONDecodeError) as e:\n",
    "            print(f\"Error processing line for task {task_id}: {e}\")\n",
    "            ordinance_results[task_id] = []\n",
    "\n",
    "# Add the extracted ordinances to df_caps_sample\n",
    "df_caps_sample[\"ordinances\"] = df_caps_sample.index.map(\n",
    "    lambda idx: ordinance_results.get(str(idx), [])\n",
    ")\n",
    "\n",
    "# Save the updated DataFrame with ordinances\n",
    "df_json_with_ordinances = df_caps_sample.to_json(orient=\"records\", indent=2).replace('\\\\/', '/')\n",
    "with open(\"cap_qa_pairs_with_ordinances.json\", \"w\") as f:\n",
    "    f.write(df_json_with_ordinances)\n",
    "\n",
    "\n",
    "# Print a sample to verify\n",
    "print(\"\\nSample with extracted ordinances:\")\n",
    "print(df_caps_sample[[\"Question\", \"ordinances\"]].head(3))"
   ]
  },
  {
   "cell_type": "code",
   "execution_count": 8,
   "id": "4e3d8359",
   "metadata": {},
   "outputs": [
    {
     "name": "stdout",
     "output_type": "stream",
     "text": [
      "32\n"
     ]
    }
   ],
   "source": [
    "df_cases = df[df[\"Answer\"].str.contains(r\"\\([A-Z]{4}\\s+\\d+/\\d+\\)|\\b[A-Z]{4}\\s+\\d+/\\d+\\b\")]\n",
    "print(len(df_cases))\n",
    "df_cases.head(2)\n",
    "# df_cases_sample = df_cases.sample(n=100, random_state=42)\n",
    "df_json = df_cases.to_json(orient=\"records\", indent=2, force_ascii=False).replace('\\\\/', '/')\n",
    "with open(\"case_qa_pairs.json\", \"w\") as f:\n",
    "    f.write(df_json)"
   ]
  },
  {
   "cell_type": "code",
   "execution_count": 55,
   "id": "e8d787a7",
   "metadata": {},
   "outputs": [
    {
     "name": "stdout",
     "output_type": "stream",
     "text": [
      "57\n"
     ]
    },
    {
     "data": {
      "text/plain": [
       "'Can decisions of a public authority be challenged by ordinary legal actions?'"
      ]
     },
     "execution_count": 55,
     "metadata": {},
     "output_type": "execute_result"
    }
   ],
   "source": [
    "df_cases = df[df[\"answer\"].str.contains(\"case law\")]\n",
    "print(len(df_cases))\n",
    "df_cases.iloc[0][\"Question\"]\n",
    "# # df_cases_sample = df_cases.sample(n=100, random_state=42)\n",
    "# df_json = df_cases.to_json(orient=\"records\", indent=2, force_ascii=False).replace('\\\\/', '/')\n",
    "# with open(\"lqb/case_qa_pairs.json\", \"w\") as f:\n",
    "#     f.write(df_json)"
   ]
  }
 ],
 "metadata": {
  "kernelspec": {
   "display_name": "base",
   "language": "python",
   "name": "python3"
  },
  "language_info": {
   "codemirror_mode": {
    "name": "ipython",
    "version": 3
   },
   "file_extension": ".py",
   "mimetype": "text/x-python",
   "name": "python",
   "nbconvert_exporter": "python",
   "pygments_lexer": "ipython3",
   "version": "3.11.5"
  }
 },
 "nbformat": 4,
 "nbformat_minor": 5
}
