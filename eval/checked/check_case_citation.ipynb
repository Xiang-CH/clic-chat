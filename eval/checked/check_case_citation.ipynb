{
 "cells": [
  {
   "cell_type": "code",
   "execution_count": 1,
   "id": "7a88b1b7",
   "metadata": {},
   "outputs": [],
   "source": [
    "import pandas as pd"
   ]
  },
  {
   "cell_type": "code",
   "execution_count": 3,
   "id": "f7f4a4f1",
   "metadata": {},
   "outputs": [
    {
     "data": {
      "text/html": [
       "<div>\n",
       "<style scoped>\n",
       "    .dataframe tbody tr th:only-of-type {\n",
       "        vertical-align: middle;\n",
       "    }\n",
       "\n",
       "    .dataframe tbody tr th {\n",
       "        vertical-align: top;\n",
       "    }\n",
       "\n",
       "    .dataframe thead th {\n",
       "        text-align: right;\n",
       "    }\n",
       "</style>\n",
       "<table border=\"1\" class=\"dataframe\">\n",
       "  <thead>\n",
       "    <tr style=\"text-align: right;\">\n",
       "      <th></th>\n",
       "      <th>Question</th>\n",
       "      <th>Answer</th>\n",
       "      <th>URL</th>\n",
       "      <th>ordinances</th>\n",
       "      <th>tool_response</th>\n",
       "      <th>contains_cap</th>\n",
       "      <th>contains_hallucination</th>\n",
       "      <th>hallucinated_content</th>\n",
       "      <th>index</th>\n",
       "      <th>change_log</th>\n",
       "    </tr>\n",
       "  </thead>\n",
       "  <tbody>\n",
       "    <tr>\n",
       "      <th>0</th>\n",
       "      <td>What is the legal consequence of breaching By-...</td>\n",
       "      <td>The HA defines “Eligible Persons” as: holders ...</td>\n",
       "      <td>https://clic.org.hk/en/topics/traffic_law/publ...</td>\n",
       "      <td>[{'cap_no': '556B', 'section_no': '30'}, {'cap...</td>\n",
       "      <td>The Hospital Authority differentiates \"eligibl...</td>\n",
       "      <td>True</td>\n",
       "      <td>0.0</td>\n",
       "      <td></td>\n",
       "      <td>0.0</td>\n",
       "      <td>NaN</td>\n",
       "    </tr>\n",
       "    <tr>\n",
       "      <th>1</th>\n",
       "      <td>If I leave no will, how will my assets be dist...</td>\n",
       "      <td>C. You leave behind a husband or wife and desc...</td>\n",
       "      <td>https://seniorclic.hk/en/topics/farewell-to-li...</td>\n",
       "      <td>[{'cap_no': '73', 'section_no': '4(3)'}, {'cap...</td>\n",
       "      <td>If you die without a will in Hong Kong, your a...</td>\n",
       "      <td>True</td>\n",
       "      <td>0.0</td>\n",
       "      <td></td>\n",
       "      <td>1.0</td>\n",
       "      <td>NaN</td>\n",
       "    </tr>\n",
       "  </tbody>\n",
       "</table>\n",
       "</div>"
      ],
      "text/plain": [
       "                                            Question  \\\n",
       "0  What is the legal consequence of breaching By-...   \n",
       "1  If I leave no will, how will my assets be dist...   \n",
       "\n",
       "                                              Answer  \\\n",
       "0  The HA defines “Eligible Persons” as: holders ...   \n",
       "1  C. You leave behind a husband or wife and desc...   \n",
       "\n",
       "                                                 URL  \\\n",
       "0  https://clic.org.hk/en/topics/traffic_law/publ...   \n",
       "1  https://seniorclic.hk/en/topics/farewell-to-li...   \n",
       "\n",
       "                                          ordinances  \\\n",
       "0  [{'cap_no': '556B', 'section_no': '30'}, {'cap...   \n",
       "1  [{'cap_no': '73', 'section_no': '4(3)'}, {'cap...   \n",
       "\n",
       "                                       tool_response  contains_cap  \\\n",
       "0  The Hospital Authority differentiates \"eligibl...          True   \n",
       "1  If you die without a will in Hong Kong, your a...          True   \n",
       "\n",
       "   contains_hallucination hallucinated_content  index change_log  \n",
       "0                     0.0                         0.0        NaN  \n",
       "1                     0.0                         1.0        NaN  "
      ]
     },
     "execution_count": 3,
     "metadata": {},
     "output_type": "execute_result"
    }
   ],
   "source": [
    "df = pd.read_json(\"cap_qa_pairs_clic_.json\")\n",
    "df.head(2)"
   ]
  },
  {
   "cell_type": "code",
   "execution_count": 4,
   "id": "f56b64b7",
   "metadata": {},
   "outputs": [
    {
     "name": "stdout",
     "output_type": "stream",
     "text": [
      "Number of entries where tool_response contains ' v. ': 25\n",
      "\n",
      "Sample matching entries:\n"
     ]
    },
    {
     "data": {
      "text/html": [
       "<div>\n",
       "<style scoped>\n",
       "    .dataframe tbody tr th:only-of-type {\n",
       "        vertical-align: middle;\n",
       "    }\n",
       "\n",
       "    .dataframe tbody tr th {\n",
       "        vertical-align: top;\n",
       "    }\n",
       "\n",
       "    .dataframe thead th {\n",
       "        text-align: right;\n",
       "    }\n",
       "</style>\n",
       "<table border=\"1\" class=\"dataframe\">\n",
       "  <thead>\n",
       "    <tr style=\"text-align: right;\">\n",
       "      <th></th>\n",
       "      <th>Question</th>\n",
       "      <th>tool_response</th>\n",
       "    </tr>\n",
       "  </thead>\n",
       "  <tbody>\n",
       "    <tr>\n",
       "      <th>0</th>\n",
       "      <td>What is the legal consequence of breaching By-...</td>\n",
       "      <td>The Hospital Authority differentiates \"eligibl...</td>\n",
       "    </tr>\n",
       "    <tr>\n",
       "      <th>9</th>\n",
       "      <td>In solving cross-border employment disputes, i...</td>\n",
       "      <td>Yes, the parties' intention is a significant f...</td>\n",
       "    </tr>\n",
       "    <tr>\n",
       "      <th>10</th>\n",
       "      <td>Is there a legal obligation to wear seatbelt?</td>\n",
       "      <td>Yes, there is a legal obligation to wear seatb...</td>\n",
       "    </tr>\n",
       "  </tbody>\n",
       "</table>\n",
       "</div>"
      ],
      "text/plain": [
       "                                             Question  \\\n",
       "0   What is the legal consequence of breaching By-...   \n",
       "9   In solving cross-border employment disputes, i...   \n",
       "10      Is there a legal obligation to wear seatbelt?   \n",
       "\n",
       "                                        tool_response  \n",
       "0   The Hospital Authority differentiates \"eligibl...  \n",
       "9   Yes, the parties' intention is a significant f...  \n",
       "10  Yes, there is a legal obligation to wear seatb...  "
      ]
     },
     "metadata": {},
     "output_type": "display_data"
    }
   ],
   "source": [
    "# Count entries where tool_response contains \" v. \"\n",
    "v_pattern = df[df['tool_response'].str.contains(\" v. \", na=False)]\n",
    "\n",
    "# Display the count\n",
    "print(f\"Number of entries where tool_response contains ' v. ': {len(v_pattern)}\")\n",
    "\n",
    "# Display the first few matching entries\n",
    "if len(v_pattern) > 0:\n",
    "    print(\"\\nSample matching entries:\")\n",
    "    display(v_pattern[['Question', 'tool_response']].head(3))"
   ]
  },
  {
   "cell_type": "code",
   "execution_count": null,
   "id": "e7f97855",
   "metadata": {},
   "outputs": [],
   "source": []
  }
 ],
 "metadata": {
  "kernelspec": {
   "display_name": "base",
   "language": "python",
   "name": "python3"
  },
  "language_info": {
   "codemirror_mode": {
    "name": "ipython",
    "version": 3
   },
   "file_extension": ".py",
   "mimetype": "text/x-python",
   "name": "python",
   "nbconvert_exporter": "python",
   "pygments_lexer": "ipython3",
   "version": "3.11.5"
  }
 },
 "nbformat": 4,
 "nbformat_minor": 5
}
